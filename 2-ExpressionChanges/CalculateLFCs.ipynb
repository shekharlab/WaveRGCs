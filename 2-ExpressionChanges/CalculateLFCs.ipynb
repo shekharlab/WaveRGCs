{
 "cells": [
  {
   "cell_type": "code",
   "execution_count": 69,
   "id": "0a2db9af-070f-4258-99e8-572c709936ec",
   "metadata": {},
   "outputs": [],
   "source": [
    "import numpy as np\n",
    "import pandas as pd\n",
    "import scanpy as sc\n",
    "import matplotlib.pyplot as plt\n",
    "import matplotlib as mpl\n",
    "import anndata as ad\n",
    "import matplotlib.patheffects as pe\n",
    "import warnings\n",
    "from scipy import sparse\n",
    "import pickle"
   ]
  },
  {
   "cell_type": "code",
   "execution_count": 2,
   "id": "1403bf9e-9b2a-40c8-920a-98d01a223479",
   "metadata": {},
   "outputs": [],
   "source": [
    "from tqdm import tqdm"
   ]
  },
  {
   "cell_type": "code",
   "execution_count": 70,
   "id": "5547fe16-006b-4e1d-bad7-0b8ab6915ade",
   "metadata": {},
   "outputs": [],
   "source": [
    "new_rc_params = {'text.usetex': False,\n",
    "\"svg.fonttype\": 'none'\n",
    "}\n",
    "mpl.rcParams.update(new_rc_params)\n",
    "plt.rcParams.update({'axes.labelsize' : 16}) "
   ]
  },
  {
   "cell_type": "code",
   "execution_count": 3,
   "id": "0507dc57-bfb9-43e1-b96d-94069c5c8b63",
   "metadata": {},
   "outputs": [],
   "source": [
    "biological_types = [\"1_W3L1\",\n",
    "                    \"2_W3D1\",\n",
    "                    \"3_F-mini-ON\",\n",
    "                    \"4_F-mini-OFF\",\n",
    "                    \"5_J-RGC\",\n",
    "                    \"6_W3B\",\n",
    "                    \"7_Novel\",\n",
    "                    \"8_Novel\",\n",
    "                    \"9_Tbr1-Novel\",\n",
    "                    \"10_ooDSGC\",\n",
    "                    \"11_Novel\",\n",
    "                    \"12_N-ooDSGC\",\n",
    "                    \"13_W3L2\",\n",
    "                    \"14_Novel\",\n",
    "                    \"15_Novel\",\n",
    "                    \"16_D/V-ooDSGC\",\n",
    "                    \"17_Tbr1-S1\",\n",
    "                    \"18_Novel\",\n",
    "                    \"19_Novel\",\n",
    "                    \"20_Novel\",\n",
    "                    \"21_Tbr1-S2\",\n",
    "                    \"22_MX\",\n",
    "                    \"23_W3D2\",\n",
    "                    \"24_ooDSGC\",\n",
    "                    \"25_Novel\",\n",
    "                    \"26_Novel\",\n",
    "                    \"27_Novel\",\n",
    "                    \"28_F-midi-OFF\",\n",
    "                    \"29_Novel\",\n",
    "                    \"30_W3D3\",\n",
    "                    \"31_M2\",\n",
    "                    \"32_F-Novel\",\n",
    "                    \"33_M1\",\n",
    "                    \"34_Novel\",\n",
    "                    \"35_Novel\",\n",
    "                    \"36_Novel\",\n",
    "                    \"37_Novel\",\n",
    "                    \"38_F-midi-ON\",\n",
    "                    \"39_Novel\",\n",
    "                    \"40_M1-duplicate\",\n",
    "                    \"41_alphaON-T\",\n",
    "                    \"42_alphaOFF-S\",\n",
    "                    \"43_alphaON-S/M4\",\n",
    "                    \"44_Novel\",\n",
    "                    \"45_alphaOFF-T\"\n",
    "]"
   ]
  },
  {
   "cell_type": "code",
   "execution_count": 4,
   "id": "b0156d3d-b82b-4fb1-b307-23b85fd816db",
   "metadata": {},
   "outputs": [],
   "source": [
    "p5_adata = sc.read_h5ad('path/to/adatas/P5_adata_typed.h5ad')\n",
    "p7_adata = sc.read_h5ad('path/to/adatas/P7_adata_pruned.h5ad')\n",
    "p56_adata = sc.read_h5ad('path/to/adatas/P56_adata.h5ad')"
   ]
  },
  {
   "cell_type": "code",
   "execution_count": 5,
   "id": "1dcb9b09-0968-44af-800c-e66e42d5ee8e",
   "metadata": {},
   "outputs": [],
   "source": [
    "p7b2_adata = sc.read_h5ad('path/to/adatas/P7b2_adata_pruned.h5ad')"
   ]
  },
  {
   "cell_type": "code",
   "execution_count": 6,
   "id": "71c9cc40-b361-4d97-adcd-a62ec4def398",
   "metadata": {},
   "outputs": [],
   "source": [
    "p56_adata.obs['P56_type'] = p56_adata.obs['Bio_type_cluster']"
   ]
  },
  {
   "cell_type": "code",
   "execution_count": 7,
   "id": "9e0527e5-b71f-437f-9f40-8c9d3ea7fad5",
   "metadata": {},
   "outputs": [
    {
     "name": "stderr",
     "output_type": "stream",
     "text": [
      "C:\\Users\\pomat\\AppData\\Local\\Programs\\Python\\Python311\\Lib\\site-packages\\anndata\\_core\\anndata.py:1755: FutureWarning: The AnnData.concatenate method is deprecated in favour of the anndata.concat function. Please use anndata.concat instead.\n",
      "\n",
      "See the tutorial for concat at: https://anndata.readthedocs.io/en/latest/concatenation.html\n",
      "  warnings.warn(\n"
     ]
    }
   ],
   "source": [
    "p7_p5_p56_combined_adata = ad.AnnData.concatenate(p7_adata, p7b2_adata, p5_adata, p56_adata, batch_key='Atlas', batch_categories=['P7','P7b2','P5','P56'])"
   ]
  },
  {
   "cell_type": "markdown",
   "id": "42ceac61-2063-46da-9d8b-fba1d6da154d",
   "metadata": {},
   "source": [
    "# Calculating Global LFCs"
   ]
  },
  {
   "cell_type": "code",
   "execution_count": 8,
   "id": "14074c8e-8456-4a0c-a665-887b694011f8",
   "metadata": {},
   "outputs": [],
   "source": [
    "p5_adata_raw = p5_adata.raw\n",
    "p7_adata_raw = p7_adata.raw\n",
    "p56_adata_raw = p56_adata.raw"
   ]
  },
  {
   "cell_type": "code",
   "execution_count": 9,
   "id": "600859bb-11e6-406c-86dd-02a4cff4b903",
   "metadata": {},
   "outputs": [],
   "source": [
    "p7b2_adata_raw = p7b2_adata.raw"
   ]
  },
  {
   "cell_type": "code",
   "execution_count": 10,
   "id": "47217fd2-bb22-443f-ac02-0f33bcf44e11",
   "metadata": {},
   "outputs": [],
   "source": [
    "common_genes = []\n",
    "for i in list(p5_adata_raw.var_names):\n",
    "    if (i in p7_adata_raw.var_names) & (i in p56_adata_raw.var_names):\n",
    "        common_genes.append(i)"
   ]
  },
  {
   "cell_type": "code",
   "execution_count": 11,
   "id": "8a971783-42dc-4b9c-8e3e-73b82a63ef83",
   "metadata": {},
   "outputs": [],
   "source": [
    "p5_adata_slice = p5_adata_raw[:, common_genes]\n",
    "p7_adata_slice = p7_adata_raw[:, common_genes]\n",
    "p56_adata_slice = p56_adata_raw[:, common_genes]"
   ]
  },
  {
   "cell_type": "code",
   "execution_count": 12,
   "id": "50352e65-7755-4135-82ce-a4de2dbf84aa",
   "metadata": {},
   "outputs": [],
   "source": [
    "p7b2_adata_slice = p7b2_adata_raw[:, common_genes]"
   ]
  },
  {
   "cell_type": "code",
   "execution_count": 13,
   "id": "4b19ae8c-0da7-4c9e-a50c-af450a68ce56",
   "metadata": {},
   "outputs": [],
   "source": [
    "p5_log_gem = p5_adata_slice.X\n",
    "p7_log_gem = p7_adata_slice.X\n",
    "p56_log_gem = p56_adata_slice.X"
   ]
  },
  {
   "cell_type": "code",
   "execution_count": 14,
   "id": "80cbae8f-f9f7-4b57-b58a-c67bb76964b8",
   "metadata": {},
   "outputs": [],
   "source": [
    "p7b2_log_gem = p7b2_adata_slice.X"
   ]
  },
  {
   "cell_type": "code",
   "execution_count": 15,
   "id": "4e90c74d-6bb3-48fd-9568-18087f6d79ea",
   "metadata": {},
   "outputs": [],
   "source": [
    "p5_gem = p5_log_gem.expm1()\n",
    "p7_gem = p7_log_gem.expm1()\n",
    "p56_gem = p56_log_gem.expm1()"
   ]
  },
  {
   "cell_type": "code",
   "execution_count": 16,
   "id": "9849d3e2-cc4a-44cd-9f3a-e8c1209fd898",
   "metadata": {},
   "outputs": [],
   "source": [
    "p7b2_gem = p7b2_log_gem.expm1()"
   ]
  },
  {
   "cell_type": "code",
   "execution_count": 17,
   "id": "42c26b2d-1c33-4aa0-b9ca-9108086302ef",
   "metadata": {},
   "outputs": [],
   "source": [
    "p5_mean_exp = p5_gem.mean(0)\n",
    "p7_mean_exp = p7_gem.mean(0)\n",
    "p56_mean_exp = p56_gem.mean(0)"
   ]
  },
  {
   "cell_type": "code",
   "execution_count": 18,
   "id": "e531bc0d-0ff9-4218-8b72-dc580cae4664",
   "metadata": {},
   "outputs": [],
   "source": [
    "p7b2_mean_exp = p7b2_gem.mean(0)"
   ]
  },
  {
   "cell_type": "code",
   "execution_count": 19,
   "id": "3809cf3a-5754-471f-ad8c-d0308e4de297",
   "metadata": {},
   "outputs": [],
   "source": [
    "p7_count = p7_adata_slice.X.shape[0]\n",
    "p7b2_count = p7b2_adata_slice.X.shape[0]\n",
    "p56_count = p56_adata_slice.X.shape[0]\n",
    "p5_count = p5_adata_slice.X.shape[0]\n",
    "\n",
    "p7_raw_X = p7_adata_slice.X\n",
    "p7_raw_X.eliminate_zeros()\n",
    "p7_raw_X_trans = p7_raw_X.transpose().tocsr()\n",
    "p7_cell_counts = p7_raw_X_trans.indptr[1:] - p7_raw_X_trans.indptr[:-1]\n",
    "\n",
    "p7b2_raw_X = p7b2_adata_slice.X\n",
    "p7b2_raw_X.eliminate_zeros()\n",
    "p7b2_raw_X_trans = p7b2_raw_X.transpose().tocsr()\n",
    "p7b2_cell_counts = p7b2_raw_X_trans.indptr[1:] - p7b2_raw_X_trans.indptr[:-1]\n",
    "\n",
    "p56_raw_X = p56_adata_slice.X\n",
    "p56_raw_X.eliminate_zeros()\n",
    "p56_raw_X_trans = p56_raw_X.transpose().tocsr()\n",
    "p56_cell_counts = p56_raw_X_trans.indptr[1:] - p56_raw_X_trans.indptr[:-1]\n",
    "\n",
    "p5_raw_X = p5_adata_slice.X\n",
    "p5_raw_X.eliminate_zeros()\n",
    "p5_raw_X_trans = p5_raw_X.transpose().tocsr()\n",
    "p5_cell_counts = p5_raw_X_trans.indptr[1:] - p5_raw_X_trans.indptr[:-1]\n",
    "\n",
    "p7_cell_pcts = p7_cell_counts/p7_count\n",
    "p7b2_cell_pcts = p7b2_cell_counts/p7b2_count\n",
    "p56_cell_pcts = p56_cell_counts/p56_count\n",
    "p5_cell_pcts = p5_cell_counts/p5_count"
   ]
  },
  {
   "cell_type": "code",
   "execution_count": 20,
   "id": "e2eea9ba-4459-4ec4-a1be-e2a9adb845d0",
   "metadata": {},
   "outputs": [],
   "source": [
    "gene_names = []\n",
    "p7_p5_fold_changes = []\n",
    "p7_p56_fold_changes = []\n",
    "p56_p5_fold_changes = []\n",
    "p56_p7_fold_changes = []\n",
    "p7b2_p7_fold_changes = []\n",
    "p7b2_p56_fold_changes = []\n",
    "p7b2_p5_fold_changes = []\n",
    "p7_p7b2_fold_changes = []\n",
    "for i in range(p5_mean_exp.shape[1]):\n",
    "    gene_name = list(p5_adata_slice.var_names)[i]\n",
    "    \n",
    "    p5_index = i\n",
    "    p7_index = list(p7_adata_slice.var_names).index(gene_name)\n",
    "    p56_index = list(p56_adata_slice.var_names).index(gene_name)\n",
    "    \n",
    "    gene_names.append(gene_name)\n",
    "    p7_p5_fold_change = (p7_mean_exp[0, p7_index]+0.01)/(p5_mean_exp[0, p5_index]+0.01)\n",
    "    p7_p5_fold_changes.append(p7_p5_fold_change)\n",
    "    p7_p56_fold_change = (p7_mean_exp[0, p7_index]+0.01)/(p56_mean_exp[0, p56_index]+0.01)\n",
    "    p7_p56_fold_changes.append(p7_p56_fold_change)\n",
    "    p56_p7_fold_changes.append(1/p7_p56_fold_change)\n",
    "    p56_p5_fold_change = (p56_mean_exp[0, p56_index]+0.01)/(p5_mean_exp[0, p5_index]+0.01)\n",
    "    p56_p5_fold_changes.append(p56_p5_fold_change)\n",
    "    p7b2_p7_fold_change = (p7b2_mean_exp[0, p7_index]+0.01)/(p7_mean_exp[0, p7_index]+0.01)\n",
    "    p7b2_p7_fold_changes.append(p7b2_p7_fold_change)\n",
    "    p7_p7b2_fold_changes.append(1/p7b2_p7_fold_change)\n",
    "    p7b2_p56_fold_change = (p7b2_mean_exp[0, p7_index]+0.01)/(p56_mean_exp[0, p56_index]+0.01)\n",
    "    p7b2_p56_fold_changes.append(p7b2_p56_fold_change)\n",
    "    p7b2_p5_fold_change = (p7b2_mean_exp[0, p7_index]+0.01)/(p5_mean_exp[0, p5_index]+0.01)\n",
    "    p7b2_p5_fold_changes.append(p7b2_p5_fold_change)"
   ]
  },
  {
   "cell_type": "code",
   "execution_count": 21,
   "id": "bda3eb73-3be4-48eb-a6d4-55b7699758d8",
   "metadata": {},
   "outputs": [],
   "source": [
    "pickle.dump(p7_p5_fold_changes, open('p7_p5_fold_changes.pkl', 'wb'))\n",
    "pickle.dump(p7_p56_fold_changes, open('p7_p56_fold_changes.pkl', 'wb'))\n",
    "pickle.dump(p56_p5_fold_changes, open('p56_p5_fold_changes.pkl', 'wb'))\n",
    "pickle.dump(p56_p7_fold_changes, open('p56_p7_fold_changes.pkl', 'wb'))\n",
    "pickle.dump(p7b2_p7_fold_changes, open('p7b2_p7_fold_changes.pkl', 'wb'))\n",
    "pickle.dump(p7b2_p56_fold_changes, open('p7b2_p56_fold_changes.pkl', 'wb'))\n",
    "pickle.dump(p7b2_p5_fold_changes, open('p7b2_p5_fold_changes.pkl', 'wb'))\n",
    "pickle.dump(p7_p7b2_fold_changes, open('p7_p7b2_fold_changes.pkl', 'wb'))"
   ]
  },
  {
   "cell_type": "code",
   "execution_count": 22,
   "id": "a67d2a5f-5d54-44e3-8f3a-6cea89a23b4c",
   "metadata": {},
   "outputs": [],
   "source": [
    "p7_p5_blacklist = []\n",
    "p7_p56_blacklist = []\n",
    "p7_p7b2_blacklist = []\n",
    "p5_p56_blacklist = []\n",
    "p5_p7b2_blacklist = []\n",
    "p56_p7b2_blacklist = []\n",
    "for i in range(p5_mean_exp.shape[1]):\n",
    "    gene_name = list(p5_adata_slice.var_names)[i]\n",
    "    \n",
    "    p5_index = i\n",
    "    p7_index = list(p7_adata_slice.var_names).index(gene_name)\n",
    "    p56_index = list(p56_adata_slice.var_names).index(gene_name)\n",
    "\n",
    "    if p7_cell_pcts[p7_index] < 0.05:\n",
    "        if p5_cell_pcts[p5_index] < 0.05:\n",
    "            p7_p5_blacklist.append(i)\n",
    "        if p56_cell_pcts[p56_index] < 0.05:\n",
    "            p7_p56_blacklist.append(i)\n",
    "        if p7b2_cell_pcts[p7_index] < 0.05:\n",
    "            p7_p7b2_blacklist.append(i)\n",
    "    if p5_cell_pcts[p5_index] < 0.05:\n",
    "        if p56_cell_pcts[p56_index] < 0.05:\n",
    "            p5_p56_blacklist.append(i)\n",
    "        if p7b2_cell_pcts[p7_index] < 0.05:\n",
    "            p5_p7b2_blacklist.append(i)\n",
    "    if p56_cell_pcts[p56_index] < 0.05:\n",
    "        if p7b2_cell_pcts[p7_index] < 0.05:\n",
    "            p56_p7b2_blacklist.append(i)"
   ]
  },
  {
   "cell_type": "code",
   "execution_count": 23,
   "id": "96c855f0-57e9-431d-92fd-bac2e0fa2f76",
   "metadata": {},
   "outputs": [],
   "source": [
    "pickle.dump(p7_p5_blacklist, open('p7_p5_blacklist.pkl', 'wb'))\n",
    "pickle.dump(p7_p56_blacklist, open('p7_p56_blacklist.pkl', 'wb'))\n",
    "pickle.dump(p7_p7b2_blacklist, open('p7_p7b2_blacklist.pkl', 'wb'))\n",
    "pickle.dump(p5_p56_blacklist, open('p5_p56_blacklist.pkl', 'wb'))\n",
    "pickle.dump(p5_p7b2_blacklist, open('p5_p7b2_blacklist.pkl', 'wb'))\n",
    "pickle.dump(p56_p7b2_blacklist, open('p56_p7b2_blacklist.pkl', 'wb'))"
   ]
  },
  {
   "cell_type": "markdown",
   "id": "d99ad055-1c11-4f0f-8b26-b67c6b7cce8b",
   "metadata": {},
   "source": [
    "# Calculating Inter-Replicate LFCs"
   ]
  },
  {
   "cell_type": "code",
   "execution_count": 31,
   "id": "fb3924b0-8f24-4262-a623-c44f6aa36458",
   "metadata": {},
   "outputs": [],
   "source": [
    "p7rep1_adata_raw = p7_adata[p7_adata.obs[\"Batch\"] == \"Batch1\"].raw\n",
    "p7rep2_adata_raw = p7_adata[p7_adata.obs[\"Batch\"] == \"Batch2\"].raw\n",
    "p7rep3_adata_raw = p7_adata[p7_adata.obs[\"Batch\"] == \"Batch3\"].raw"
   ]
  },
  {
   "cell_type": "code",
   "execution_count": 32,
   "id": "6f0601f3-d4e1-4b82-8848-df0b45a0c2a5",
   "metadata": {},
   "outputs": [],
   "source": [
    "p7b2rep1_adata_raw = p7b2_adata[p7b2_adata.obs[\"Batch\"].isin([\"Batch1\", \"Batch2\"])].raw\n",
    "p7b2rep2_adata_raw = p7b2_adata[p7b2_adata.obs[\"Batch\"] == \"Batch1_2\"].raw\n",
    "p7b2rep3_adata_raw = p7b2_adata[p7b2_adata.obs[\"Batch\"] == \"Batch2_2\"].raw"
   ]
  },
  {
   "cell_type": "code",
   "execution_count": 33,
   "id": "09752ec5-17e6-4c72-8c46-270bf832863b",
   "metadata": {},
   "outputs": [],
   "source": [
    "p7rep1_adata_slice = p7rep1_adata_raw[:, common_genes]\n",
    "p7rep2_adata_slice = p7rep2_adata_raw[:, common_genes]\n",
    "p7rep3_adata_slice = p7rep3_adata_raw[:, common_genes]"
   ]
  },
  {
   "cell_type": "code",
   "execution_count": 34,
   "id": "33a5ecb2-1432-4382-838f-7c8073bb429c",
   "metadata": {},
   "outputs": [],
   "source": [
    "p7b2rep1_adata_slice = p7b2rep1_adata_raw[:, common_genes]\n",
    "p7b2rep2_adata_slice = p7b2rep2_adata_raw[:, common_genes]\n",
    "p7b2rep3_adata_slice = p7b2rep3_adata_raw[:, common_genes]"
   ]
  },
  {
   "cell_type": "code",
   "execution_count": 35,
   "id": "54e2a4a7-fdb8-4b2d-8774-38ad189f0edb",
   "metadata": {},
   "outputs": [],
   "source": [
    "p7rep1_log_gem = p7rep1_adata_slice.X\n",
    "p7rep2_log_gem = p7rep2_adata_slice.X\n",
    "p7rep3_log_gem = p7rep3_adata_slice.X"
   ]
  },
  {
   "cell_type": "code",
   "execution_count": 36,
   "id": "2258d89a-7c8a-4fa5-9e0e-90ac5b55bb1a",
   "metadata": {},
   "outputs": [],
   "source": [
    "p7b2rep1_log_gem = p7b2rep1_adata_slice.X\n",
    "p7b2rep2_log_gem = p7b2rep2_adata_slice.X\n",
    "p7b2rep3_log_gem = p7b2rep3_adata_slice.X"
   ]
  },
  {
   "cell_type": "code",
   "execution_count": 37,
   "id": "eea10056-88d3-41b6-96b1-7d9ba4283294",
   "metadata": {},
   "outputs": [],
   "source": [
    "p7rep1_gem = p7rep1_log_gem.expm1()\n",
    "p7rep2_gem = p7rep2_log_gem.expm1()\n",
    "p7rep3_gem = p7rep3_log_gem.expm1()"
   ]
  },
  {
   "cell_type": "code",
   "execution_count": 38,
   "id": "517593e4-7ff1-441b-b0bc-ea9176191266",
   "metadata": {},
   "outputs": [],
   "source": [
    "p7b2rep1_gem = p7b2rep1_log_gem.expm1()\n",
    "p7b2rep2_gem = p7b2rep2_log_gem.expm1()\n",
    "p7b2rep3_gem = p7b2rep3_log_gem.expm1()"
   ]
  },
  {
   "cell_type": "code",
   "execution_count": 39,
   "id": "3014944a-cfae-4715-91a7-97045f6513fc",
   "metadata": {},
   "outputs": [],
   "source": [
    "p7rep1_mean_exp = p7rep1_gem.mean(0)\n",
    "p7rep2_mean_exp = p7rep2_gem.mean(0)\n",
    "p7rep3_mean_exp = p7rep3_gem.mean(0)"
   ]
  },
  {
   "cell_type": "code",
   "execution_count": 40,
   "id": "ca05c2a9-a127-4e01-a546-dee91502e300",
   "metadata": {},
   "outputs": [],
   "source": [
    "p7b2rep1_mean_exp = p7b2rep1_gem.mean(0)\n",
    "p7b2rep2_mean_exp = p7b2rep2_gem.mean(0)\n",
    "p7b2rep3_mean_exp = p7b2rep3_gem.mean(0)"
   ]
  },
  {
   "cell_type": "code",
   "execution_count": 41,
   "id": "f41c6132-f07c-4025-ab95-4b5705c794f2",
   "metadata": {},
   "outputs": [],
   "source": [
    "p7rep1_count = p7rep1_adata_slice.X.shape[0]\n",
    "p7rep2_count = p7rep2_adata_slice.X.shape[0]\n",
    "p7rep3_count = p7rep3_adata_slice.X.shape[0]\n",
    "p7b2rep1_count = p7b2rep1_adata_slice.X.shape[0]\n",
    "p7b2rep2_count = p7b2rep2_adata_slice.X.shape[0]\n",
    "p7b2rep3_count = p7b2rep3_adata_slice.X.shape[0]\n",
    "\n",
    "p7rep1_raw_X = p7rep1_adata_slice.X\n",
    "p7rep1_raw_X.eliminate_zeros()\n",
    "p7rep1_raw_X_trans = p7rep1_raw_X.transpose().tocsr()\n",
    "p7rep1_cell_counts = p7rep1_raw_X_trans.indptr[1:] - p7rep1_raw_X_trans.indptr[:-1]\n",
    "\n",
    "p7rep2_raw_X = p7rep2_adata_slice.X\n",
    "p7rep2_raw_X.eliminate_zeros()\n",
    "p7rep2_raw_X_trans = p7rep2_raw_X.transpose().tocsr()\n",
    "p7rep2_cell_counts = p7rep2_raw_X_trans.indptr[1:] - p7rep2_raw_X_trans.indptr[:-1]\n",
    "\n",
    "p7rep3_raw_X = p7rep3_adata_slice.X\n",
    "p7rep3_raw_X.eliminate_zeros()\n",
    "p7rep3_raw_X_trans = p7rep3_raw_X.transpose().tocsr()\n",
    "p7rep3_cell_counts = p7rep3_raw_X_trans.indptr[1:] - p7rep3_raw_X_trans.indptr[:-1]\n",
    "\n",
    "p7b2rep1_raw_X = p7b2rep1_adata_slice.X\n",
    "p7b2rep1_raw_X.eliminate_zeros()\n",
    "p7b2rep1_raw_X_trans = p7b2rep1_raw_X.transpose().tocsr()\n",
    "p7b2rep1_cell_counts = p7b2rep1_raw_X_trans.indptr[1:] - p7b2rep1_raw_X_trans.indptr[:-1]\n",
    "\n",
    "p7b2rep2_raw_X = p7b2rep2_adata_slice.X\n",
    "p7b2rep2_raw_X.eliminate_zeros()\n",
    "p7b2rep2_raw_X_trans = p7b2rep2_raw_X.transpose().tocsr()\n",
    "p7b2rep2_cell_counts = p7b2rep2_raw_X_trans.indptr[1:] - p7b2rep2_raw_X_trans.indptr[:-1]\n",
    "\n",
    "p7b2rep3_raw_X = p7b2rep3_adata_slice.X\n",
    "p7b2rep3_raw_X.eliminate_zeros()\n",
    "p7b2rep3_raw_X_trans = p7b2rep3_raw_X.transpose().tocsr()\n",
    "p7b2rep3_cell_counts = p7b2rep3_raw_X_trans.indptr[1:] - p7b2rep3_raw_X_trans.indptr[:-1]\n",
    "\n",
    "p7rep1_cell_pcts = p7rep1_cell_counts/p7rep1_count\n",
    "p7rep2_cell_pcts = p7rep2_cell_counts/p7rep2_count\n",
    "p7rep3_cell_pcts = p7rep3_cell_counts/p7rep3_count\n",
    "p7b2rep1_cell_pcts = p7b2rep1_cell_counts/p7b2rep1_count\n",
    "p7b2rep2_cell_pcts = p7b2rep2_cell_counts/p7b2rep2_count\n",
    "p7b2rep3_cell_pcts = p7b2rep3_cell_counts/p7b2rep3_count"
   ]
  },
  {
   "cell_type": "code",
   "execution_count": 42,
   "id": "aa58b866-a108-445b-8382-19287c4b4ea6",
   "metadata": {},
   "outputs": [],
   "source": [
    "gene_names = []\n",
    "p7rep1_p7rep2_fold_changes = []\n",
    "p7rep1_p7rep3_fold_changes = []\n",
    "p7rep2_p7rep3_fold_changes = []\n",
    "p7b2rep1_p7b2rep2_fold_changes = []\n",
    "p7b2rep1_p7b2rep3_fold_changes = []\n",
    "p7b2rep2_p7b2rep3_fold_changes = []\n",
    "for i in range(p5_mean_exp.shape[1]):\n",
    "    gene_name = list(p5_adata_slice.var_names)[i]\n",
    "    p7_index = list(p7_adata_slice.var_names).index(gene_name)\n",
    "    \n",
    "    #if (p5_mean_exp[0, p5_index] != 0) & (p7_mean_exp[0, p7_index] != 0) & (p56_mean_exp[0, p56_index] != 0) & (p7Batch2_mean_exp[0, p7_index] != 0) & (p7Batch3_mean_exp[0, p7_index] != 0) & (p5Batch3_mean_exp[0, p5_index] != 0) & (p5Batch5_mean_exp[0, p5_index] != 0):\n",
    "    gene_names.append(gene_name)\n",
    "    p7rep1_p7rep2_fold_change = (p7rep1_mean_exp[0, p7_index]+0.01)/(p7rep2_mean_exp[0, p7_index]+0.01)\n",
    "    p7rep1_p7rep2_fold_changes.append(p7rep1_p7rep2_fold_change)\n",
    "    p7rep1_p7rep3_fold_change = (p7rep1_mean_exp[0, p7_index]+0.01)/(p7rep3_mean_exp[0, p7_index]+0.01)\n",
    "    p7rep1_p7rep3_fold_changes.append(p7rep1_p7rep3_fold_change)\n",
    "    p7rep2_p7rep3_fold_change = (p7rep2_mean_exp[0, p7_index]+0.01)/(p7rep3_mean_exp[0, p7_index]+0.01)\n",
    "    p7rep2_p7rep3_fold_changes.append(p7rep2_p7rep3_fold_change)\n",
    "\n",
    "    p7b2rep1_p7b2rep2_fold_change = (p7b2rep1_mean_exp[0, p7_index]+0.01)/(p7b2rep2_mean_exp[0, p7_index]+0.01)\n",
    "    p7b2rep1_p7b2rep2_fold_changes.append(p7b2rep1_p7b2rep2_fold_change)\n",
    "    p7b2rep1_p7b2rep3_fold_change = (p7b2rep1_mean_exp[0, p7_index]+0.01)/(p7b2rep3_mean_exp[0, p7_index]+0.01)\n",
    "    p7b2rep1_p7b2rep3_fold_changes.append(p7b2rep1_p7b2rep3_fold_change)\n",
    "    p7b2rep2_p7b2rep3_fold_change = (p7b2rep2_mean_exp[0, p7_index]+0.01)/(p7b2rep3_mean_exp[0, p7_index]+0.01)\n",
    "    p7b2rep2_p7b2rep3_fold_changes.append(p7b2rep2_p7b2rep3_fold_change)"
   ]
  },
  {
   "cell_type": "code",
   "execution_count": 43,
   "id": "0893ee7c-ee6a-4425-8874-d8e513583837",
   "metadata": {},
   "outputs": [],
   "source": [
    "pickle.dump(p7rep1_p7rep2_fold_changes, open('p7rep1_p7rep2_fold_changes.pkl', 'wb'))\n",
    "pickle.dump(p7rep1_p7rep3_fold_changes, open('p7rep1_p7rep3_fold_changes.pkl', 'wb'))\n",
    "pickle.dump(p7rep2_p7rep3_fold_changes, open('p7rep2_p7rep3_fold_changes.pkl', 'wb'))\n",
    "pickle.dump(p7b2rep1_p7b2rep2_fold_changes, open('p7b2rep1_p7b2rep2_fold_changes.pkl', 'wb'))\n",
    "pickle.dump(p7b2rep1_p7b2rep3_fold_changes, open('p7b2rep1_p7b2rep3_fold_changes.pkl', 'wb'))\n",
    "pickle.dump(p7b2rep2_p7b2rep3_fold_changes, open('p7b2rep2_p7b2rep3_fold_changes.pkl', 'wb'))"
   ]
  },
  {
   "cell_type": "code",
   "execution_count": 44,
   "id": "ce63c4a2-d167-43f5-9a10-4baca97d1b3b",
   "metadata": {},
   "outputs": [],
   "source": [
    "p7rep1_p7rep2_blacklist = []\n",
    "p7rep1_p7rep3_blacklist = []\n",
    "p7rep2_p7rep3_blacklist = []\n",
    "p7b2rep1_p7b2rep2_blacklist = []\n",
    "p7b2rep1_p7b2rep3_blacklist = []\n",
    "p7b2rep2_p7b2rep3_blacklist = []\n",
    "for i in range(p5_mean_exp.shape[1]):\n",
    "    gene_name = list(p5_adata_slice.var_names)[i]\n",
    "    p7_index = list(p7_adata_slice.var_names).index(gene_name)\n",
    "\n",
    "    if p7rep1_cell_pcts[p7_index] < 0.05:\n",
    "        if p7rep2_cell_pcts[p7_index] < 0.05:\n",
    "            p7rep1_p7rep2_blacklist.append(i)\n",
    "        if p7rep3_cell_pcts[p7_index] < 0.05:\n",
    "            p7rep1_p7rep3_blacklist.append(i)\n",
    "    if p7rep2_cell_pcts[p7_index] < 0.05:\n",
    "        if p7rep3_cell_pcts[p7_index] < 0.05:\n",
    "            p7rep2_p7rep3_blacklist.append(i)\n",
    "    if p7b2rep1_cell_pcts[p7_index] < 0.05:\n",
    "        if p7b2rep2_cell_pcts[p7_index] < 0.05:\n",
    "            p7b2rep1_p7b2rep2_blacklist.append(i)\n",
    "        if p7b2rep3_cell_pcts[p7_index] < 0.05:\n",
    "            p7b2rep1_p7b2rep3_blacklist.append(i)\n",
    "    if p7b2rep2_cell_pcts[p7_index] < 0.05:\n",
    "        if p7b2rep3_cell_pcts[p7_index] < 0.05:\n",
    "            p7b2rep2_p7b2rep3_blacklist.append(i)"
   ]
  },
  {
   "cell_type": "code",
   "execution_count": 45,
   "id": "c15210e5-d703-4599-9206-b1382f85a4fd",
   "metadata": {},
   "outputs": [],
   "source": [
    "pickle.dump(p7rep1_p7rep2_blacklist, open('p7rep1_p7rep2_blacklist.pkl', 'wb'))\n",
    "pickle.dump(p7rep1_p7rep3_blacklist, open('p7rep1_p7rep3_blacklist.pkl', 'wb'))\n",
    "pickle.dump(p7rep2_p7rep3_blacklist, open('p7rep2_p7rep3_blacklist.pkl', 'wb'))\n",
    "pickle.dump(p7b2rep1_p7b2rep2_blacklist, open('p7b2rep1_p7b2rep2_blacklist.pkl', 'wb'))\n",
    "pickle.dump(p7b2rep1_p7b2rep3_blacklist, open('p7b2rep1_p7b2rep3_blacklist.pkl', 'wb'))\n",
    "pickle.dump(p7b2rep2_p7b2rep3_blacklist, open('p7b2rep2_p7b2rep3_blacklist.pkl', 'wb'))"
   ]
  },
  {
   "cell_type": "markdown",
   "id": "468ad97b-872e-4da8-8a67-2642250119ea",
   "metadata": {},
   "source": [
    "# By Type"
   ]
  },
  {
   "cell_type": "code",
   "execution_count": 24,
   "id": "03734c09-5c96-465c-bec8-b890a657895e",
   "metadata": {},
   "outputs": [],
   "source": [
    "p56_p56_types = []\n",
    "for i in p56_adata.obs['P56_type']:\n",
    "    p56_p56_types.append(int(i))\n",
    "p56_adata.obs['P56_type'] = pd.Categorical(p56_p56_types)"
   ]
  },
  {
   "cell_type": "code",
   "execution_count": 25,
   "id": "72e73da2-7b06-4eb5-855b-5b301f5182c4",
   "metadata": {
    "scrolled": true
   },
   "outputs": [
    {
     "name": "stdout",
     "output_type": "stream",
     "text": [
      "1\n",
      "2\n",
      "3\n",
      "4\n",
      "5\n",
      "6\n",
      "7\n",
      "8\n",
      "9\n",
      "10\n",
      "11\n",
      "12\n",
      "13\n",
      "14\n",
      "15\n",
      "16\n",
      "17\n",
      "18\n",
      "19\n",
      "20\n",
      "21\n",
      "22\n",
      "23\n",
      "24\n",
      "25\n",
      "26\n",
      "27\n",
      "28\n",
      "29\n",
      "30\n",
      "31\n",
      "32\n",
      "33\n",
      "34\n",
      "35\n",
      "36\n",
      "37\n",
      "38\n",
      "39\n",
      "40\n",
      "41\n",
      "42\n",
      "43\n",
      "44\n",
      "45\n"
     ]
    }
   ],
   "source": [
    "p5_mean_exp_by_type = []\n",
    "p7_mean_exp_by_type = []\n",
    "p56_mean_exp_by_type = []\n",
    "p7b2_mean_exp_by_type = []\n",
    "\n",
    "p5_cell_pcts_by_type = []\n",
    "p7_cell_pcts_by_type = []\n",
    "p56_cell_pcts_by_type = []\n",
    "p7b2_cell_pcts_by_type = []\n",
    "for i in biological_types:\n",
    "    P56_type = int(i.split('_')[0])\n",
    "    \n",
    "    p5_adata_raw_type = p5_adata[p5_adata.obs['P56_type'] == P56_type].raw\n",
    "    p7_adata_raw_type = p7_adata[p7_adata.obs['P56_type'] == P56_type].raw\n",
    "    p56_adata_raw_type = p56_adata[p56_adata.obs['P56_type'] == P56_type].raw\n",
    "    p7b2_adata_raw_type = p7b2_adata[p7b2_adata.obs['P56_type'] == P56_type].raw\n",
    "    \n",
    "    p5_adata_slice_type = p5_adata_raw_type[:, common_genes]\n",
    "    p7_adata_slice_type = p7_adata_raw_type[:, common_genes]\n",
    "    p56_adata_slice_type = p56_adata_raw_type[:, common_genes]\n",
    "    p7b2_adata_slice_type = p7b2_adata_raw_type[:, common_genes]\n",
    "    \n",
    "    p5_log_gem_type = p5_adata_slice_type.X\n",
    "    p7_log_gem_type = p7_adata_slice_type.X\n",
    "    p56_log_gem_type = p56_adata_slice_type.X\n",
    "    p7b2_log_gem_type = p7b2_adata_slice_type.X\n",
    "    \n",
    "    p5_gem_type = p5_log_gem_type.expm1()\n",
    "    p7_gem_type = p7_log_gem_type.expm1()\n",
    "    p56_gem_type = p56_log_gem_type.expm1()\n",
    "    p7b2_gem_type = p7b2_log_gem_type.expm1()\n",
    "    \n",
    "    p5_mean_exp_type = p5_gem_type.mean(0)\n",
    "    p7_mean_exp_type = p7_gem_type.mean(0)\n",
    "    p56_mean_exp_type = p56_gem_type.mean(0)\n",
    "    p7b2_mean_exp_type = p7b2_gem_type.mean(0)\n",
    "    \n",
    "    p5_mean_exp_by_type.append(p5_mean_exp_type)\n",
    "    p7_mean_exp_by_type.append(p7_mean_exp_type)\n",
    "    p56_mean_exp_by_type.append(p56_mean_exp_type)\n",
    "    p7b2_mean_exp_by_type.append(p7b2_mean_exp_type)\n",
    "    \n",
    "    p7_count_type = p7_adata_slice_type.X.shape[0]\n",
    "    p7b2_count_type = p7b2_adata_slice_type.X.shape[0]\n",
    "    p56_count_type = p56_adata_slice_type.X.shape[0]\n",
    "    p5_count_type = p5_adata_slice_type.X.shape[0]\n",
    "    \n",
    "    p7_raw_X_type = p7_adata_slice_type.X\n",
    "    p7_raw_X_type.eliminate_zeros()\n",
    "    p7_raw_X_trans_type = p7_raw_X_type.transpose().tocsr()\n",
    "    p7_cell_counts_type = p7_raw_X_trans_type.indptr[1:] - p7_raw_X_trans_type.indptr[:-1]\n",
    "    \n",
    "    p7b2_raw_X_type = p7b2_adata_slice_type.X\n",
    "    p7b2_raw_X_type.eliminate_zeros()\n",
    "    p7b2_raw_X_trans_type = p7b2_raw_X_type.transpose().tocsr()\n",
    "    p7b2_cell_counts_type = p7b2_raw_X_trans_type.indptr[1:] - p7b2_raw_X_trans_type.indptr[:-1]\n",
    "    \n",
    "    p56_raw_X_type = p56_adata_slice_type.X\n",
    "    p56_raw_X_type.eliminate_zeros()\n",
    "    p56_raw_X_trans_type = p56_raw_X_type.transpose().tocsr()\n",
    "    p56_cell_counts_type = p56_raw_X_trans_type.indptr[1:] - p56_raw_X_trans_type.indptr[:-1]\n",
    "    \n",
    "    p5_raw_X_type = p5_adata_slice_type.X\n",
    "    p5_raw_X_type.eliminate_zeros()\n",
    "    p5_raw_X_trans_type = p5_raw_X_type.transpose().tocsr()\n",
    "    p5_cell_counts_type = p5_raw_X_trans_type.indptr[1:] - p5_raw_X_trans_type.indptr[:-1]\n",
    "    \n",
    "    p7_cell_pcts_type = p7_cell_counts_type/p7_count_type\n",
    "    p7b2_cell_pcts_type = p7b2_cell_counts_type/p7b2_count_type\n",
    "    p56_cell_pcts_type = p56_cell_counts_type/p56_count_type\n",
    "    p5_cell_pcts_type = p5_cell_counts_type/p5_count_type\n",
    "\n",
    "    p7_cell_pcts_by_type.append(p7_cell_pcts_type)\n",
    "    p7b2_cell_pcts_by_type.append(p7b2_cell_pcts_type)\n",
    "    p56_cell_pcts_by_type.append(p56_cell_pcts_type)\n",
    "    p5_cell_pcts_by_type.append(p5_cell_pcts_type)\n",
    "\n",
    "    print(P56_type)"
   ]
  },
  {
   "cell_type": "code",
   "execution_count": 26,
   "id": "9fd0f8b3-0dd4-490a-b42e-17fa83b55383",
   "metadata": {},
   "outputs": [
    {
     "name": "stderr",
     "output_type": "stream",
     "text": [
      "100%|██████████████████████████████████████████████████████████████████████████████████| 45/45 [20:48<00:00, 27.74s/it]\n"
     ]
    }
   ],
   "source": [
    "p7_p5_fold_changes_by_type = []\n",
    "p7_p56_fold_changes_by_type = []\n",
    "p56_p5_fold_changes_by_type = []\n",
    "p56_p7_fold_changes_by_type = []\n",
    "p7b2_p7_fold_changes_by_type = []\n",
    "p7b2_p56_fold_changes_by_type = []\n",
    "p7b2_p5_fold_changes_by_type = []\n",
    "p7_p7b2_fold_changes_by_type = []\n",
    "for j in tqdm(range(len(biological_types))):\n",
    "    p7_p5_fold_changes_type = []\n",
    "    p7_p56_fold_changes_type = []\n",
    "    p56_p5_fold_changes_type = []\n",
    "    p56_p7_fold_changes_type = []\n",
    "    p7b2_p7_fold_changes_type = []\n",
    "    p7b2_p56_fold_changes_type = []\n",
    "    p7b2_p5_fold_changes_type = []\n",
    "    p7_p7b2_fold_changes_type = []\n",
    "    for i in range(p5_mean_exp.shape[1]):\n",
    "        gene_name = list(p5_adata_slice.var_names)[i]\n",
    "        \n",
    "        p5_index = i\n",
    "        p7_index = list(p7_adata_slice.var_names).index(gene_name)\n",
    "        p56_index = list(p56_adata_slice.var_names).index(gene_name)\n",
    "\n",
    "        pseudocount = 0.1\n",
    "        #if (p5_mean_exp[0, p5_index] != 0) & (p7_mean_exp[0, p7_index] != 0) & (p56_mean_exp[0, p56_index] != 0) & (p7Batch2_mean_exp[0, p7_index] != 0) & (p7Batch3_mean_exp[0, p7_index] != 0) & (p5Batch3_mean_exp[0, p5_index] != 0) & (p5Batch5_mean_exp[0, p5_index] != 0):\n",
    "        # gene_names.append(gene_name)\n",
    "        p7_p5_fold_change = (p7_mean_exp_by_type[j][0, p7_index]+pseudocount)/(p5_mean_exp_by_type[j][0, p5_index]+pseudocount)\n",
    "        p7_p5_fold_changes_type.append(p7_p5_fold_change)\n",
    "        p7_p56_fold_change = (p7_mean_exp_by_type[j][0, p7_index]+pseudocount)/(p56_mean_exp_by_type[j][0, p56_index]+pseudocount)\n",
    "        p7_p56_fold_changes_type.append(p7_p56_fold_change)\n",
    "        p56_p7_fold_changes_type.append(1/p7_p56_fold_change)\n",
    "        p56_p5_fold_change = (p56_mean_exp_by_type[j][0, p56_index]+pseudocount)/(p5_mean_exp_by_type[j][0, p5_index]+pseudocount)\n",
    "        p56_p5_fold_changes_type.append(p56_p5_fold_change)\n",
    "        p7b2_p7_fold_change = (p7b2_mean_exp_by_type[j][0, p7_index]+pseudocount)/(p7_mean_exp_by_type[j][0, p7_index]+pseudocount)\n",
    "        p7b2_p7_fold_changes_type.append(p7b2_p7_fold_change)\n",
    "        p7_p7b2_fold_changes_type.append(1/p7b2_p7_fold_change)\n",
    "        p7b2_p56_fold_change = (p7b2_mean_exp_by_type[j][0, p7_index]+pseudocount)/(p56_mean_exp_by_type[j][0, p56_index]+pseudocount)\n",
    "        p7b2_p56_fold_changes_type.append(p7b2_p56_fold_change)\n",
    "        p7b2_p5_fold_change = (p7b2_mean_exp_by_type[j][0, p7_index]+pseudocount)/(p5_mean_exp_by_type[j][0, p5_index]+pseudocount)\n",
    "        p7b2_p5_fold_changes_type.append(p7b2_p5_fold_change)\n",
    "    p7_p5_fold_changes_by_type.append(p7_p5_fold_changes_type)\n",
    "    p7_p56_fold_changes_by_type.append(p7_p56_fold_changes_type)\n",
    "    p56_p5_fold_changes_by_type.append(p56_p5_fold_changes_type)\n",
    "    p56_p7_fold_changes_by_type.append(p56_p7_fold_changes_type)\n",
    "    p7b2_p7_fold_changes_by_type.append(p7b2_p7_fold_changes_type)\n",
    "    p7b2_p56_fold_changes_by_type.append(p7b2_p56_fold_changes_type)\n",
    "    p7b2_p5_fold_changes_by_type.append(p7b2_p5_fold_changes_type)\n",
    "    p7_p7b2_fold_changes_by_type.append(p7_p7b2_fold_changes_type)"
   ]
  },
  {
   "cell_type": "code",
   "execution_count": 27,
   "id": "ed185f11-c478-4807-8ed3-b0bd7e4ffaf6",
   "metadata": {},
   "outputs": [],
   "source": [
    "import pickle"
   ]
  },
  {
   "cell_type": "code",
   "execution_count": 46,
   "id": "22094774-8f48-4c9c-aa5f-e4882fc6df8f",
   "metadata": {},
   "outputs": [],
   "source": [
    "pickle.dump(p7_p5_fold_changes_by_type, open('p7_p5_fold_changes_by_type.pkl', 'wb'))\n",
    "pickle.dump(p7_p56_fold_changes_by_type, open('p7_p56_fold_changes_by_type.pkl', 'wb'))\n",
    "pickle.dump(p56_p5_fold_changes_by_type, open('p56_p5_fold_changes_by_type.pkl', 'wb'))\n",
    "pickle.dump(p56_p7_fold_changes_by_type, open('p56_p7_fold_changes_by_type.pkl', 'wb'))\n",
    "pickle.dump(p7b2_p7_fold_changes_by_type, open('p7b2_p7_fold_changes_by_type.pkl', 'wb'))\n",
    "pickle.dump(p7b2_p56_fold_changes_by_type, open('p7b2_p56_fold_changes_by_type.pkl', 'wb'))\n",
    "pickle.dump(p7b2_p5_fold_changes_by_type, open('p7b2_p5_fold_changes_by_type.pkl', 'wb'))\n",
    "pickle.dump(p7_p7b2_fold_changes_by_type, open('p7_p7b2_fold_changes_by_type.pkl', 'wb'))"
   ]
  },
  {
   "cell_type": "code",
   "execution_count": 29,
   "id": "87134bd5-8450-4d25-af47-17adff91e95d",
   "metadata": {},
   "outputs": [
    {
     "name": "stderr",
     "output_type": "stream",
     "text": [
      "100%|██████████████████████████████████████████████████████████████████████████████████| 45/45 [20:39<00:00, 27.55s/it]\n"
     ]
    }
   ],
   "source": [
    "p7_p5_blacklist_by_type = []\n",
    "p7_p56_blacklist_by_type = []\n",
    "p7_p7b2_blacklist_by_type = []\n",
    "p5_p56_blacklist_by_type = []\n",
    "p5_p7b2_blacklist_by_type = []\n",
    "p56_p7b2_blacklist_by_type = []\n",
    "for j in tqdm(range(len(biological_types))):\n",
    "    p7_num = len(p7_adata[p7_adata.obs['P56_type'] == j].obs)\n",
    "    p7b2_num = len(p7b2_adata[p7b2_adata.obs['P56_type'] == j].obs)\n",
    "    p5_num = len(p5_adata[p5_adata.obs['P56_type'] == j].obs)\n",
    "    p56_num = len(p56_adata[p56_adata.obs['P56_type'] == j].obs)\n",
    "    # if (p7_num < 40) or (p7b2_num < 40) or (p5_num < 40) or (p56_num < 40):\n",
    "    #     worldwide_percentage = 0.2\n",
    "    # else:\n",
    "    #     worldwide_percentage = 0.05\n",
    "    p7_p5_blacklist_type = []\n",
    "    p7_p56_blacklist_type = []\n",
    "    p7_p7b2_blacklist_type = []\n",
    "    p5_p56_blacklist_type = []\n",
    "    p5_p7b2_blacklist_type = []\n",
    "    p56_p7b2_blacklist_type = []\n",
    "    for i in range(p5_mean_exp.shape[1]):\n",
    "        gene_name = list(p5_adata_slice.var_names)[i]\n",
    "        \n",
    "        p5_index = i\n",
    "        p7_index = list(p7_adata_slice.var_names).index(gene_name)\n",
    "        p56_index = list(p56_adata_slice.var_names).index(gene_name)\n",
    "    \n",
    "        if p7_cell_pcts_by_type[j][p7_index] < 0.05:\n",
    "            if p5_cell_pcts_by_type[j][p5_index] < 0.05:\n",
    "                p7_p5_blacklist_type.append(i)\n",
    "            if p56_cell_pcts_by_type[j][p56_index] < 0.05:\n",
    "                p7_p56_blacklist_type.append(i)\n",
    "            if p7b2_cell_pcts_by_type[j][p7_index] < 0.05:\n",
    "                p7_p7b2_blacklist_type.append(i)\n",
    "        if p5_cell_pcts_by_type[j][p5_index] < 0.05:\n",
    "            if p56_cell_pcts_by_type[j][p56_index] < 0.05:\n",
    "                p5_p56_blacklist_type.append(i)\n",
    "            if p7b2_cell_pcts_by_type[j][p7_index] < 0.05:\n",
    "                p5_p7b2_blacklist_type.append(i)\n",
    "        if p56_cell_pcts_by_type[j][p56_index] < 0.05:\n",
    "            if p7b2_cell_pcts_by_type[j][p7_index] < 0.05:\n",
    "                p56_p7b2_blacklist_type.append(i)\n",
    "    p7_p5_blacklist_by_type.append(p7_p5_blacklist_type)\n",
    "    p7_p56_blacklist_by_type.append(p7_p5_blacklist_type)\n",
    "    p7_p7b2_blacklist_by_type.append(p7_p5_blacklist_type)\n",
    "    p5_p56_blacklist_by_type.append(p7_p5_blacklist_type)\n",
    "    p5_p7b2_blacklist_by_type.append(p7_p5_blacklist_type)\n",
    "    p56_p7b2_blacklist_by_type.append(p7_p5_blacklist_type)"
   ]
  },
  {
   "cell_type": "code",
   "execution_count": 30,
   "id": "21164777-cd7d-45bf-8723-67e81a5fa14f",
   "metadata": {},
   "outputs": [],
   "source": [
    "pickle.dump(p7_p5_blacklist_by_type, open('p7_p5_blacklist_by_type.pkl', 'wb'))\n",
    "pickle.dump(p7_p56_blacklist_by_type, open('p7_p56_blacklist_by_type.pkl', 'wb'))\n",
    "pickle.dump(p7_p7b2_blacklist_by_type, open('p7_p7b2_blacklist_by_type.pkl', 'wb'))\n",
    "pickle.dump(p5_p56_blacklist_by_type, open('p5_p56_blacklist_by_type.pkl', 'wb'))\n",
    "pickle.dump(p5_p7b2_blacklist_by_type, open('p5_p7b2_blacklist_by_type.pkl', 'wb'))\n",
    "pickle.dump(p56_p7b2_blacklist_by_type, open('p56_p7b2_blacklist_by_type.pkl', 'wb'))"
   ]
  },
  {
   "cell_type": "code",
   "execution_count": null,
   "id": "ed484894-3b0b-4e44-b78d-33c283902390",
   "metadata": {},
   "outputs": [],
   "source": []
  }
 ],
 "metadata": {
  "kernelspec": {
   "display_name": "Python 3",
   "language": "python",
   "name": "python3"
  },
  "language_info": {
   "codemirror_mode": {
    "name": "ipython",
    "version": 3
   },
   "file_extension": ".py",
   "mimetype": "text/x-python",
   "name": "python",
   "nbconvert_exporter": "python",
   "pygments_lexer": "ipython3",
   "version": "3.11.4"
  }
 },
 "nbformat": 4,
 "nbformat_minor": 5
}
