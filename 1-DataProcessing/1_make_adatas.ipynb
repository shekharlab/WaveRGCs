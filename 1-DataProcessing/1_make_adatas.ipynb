{
 "cells": [
  {
   "cell_type": "code",
   "execution_count": 1,
   "id": "d13feb2b-37d6-46ac-8ce1-5687a128f9b8",
   "metadata": {},
   "outputs": [],
   "source": [
    "from numba.core.errors import NumbaDeprecationWarning, NumbaPendingDeprecationWarning\n",
    "import warnings\n",
    "\n",
    "warnings.simplefilter('ignore', category=NumbaDeprecationWarning)\n",
    "warnings.simplefilter('ignore', category=NumbaPendingDeprecationWarning)"
   ]
  },
  {
   "cell_type": "code",
   "execution_count": 3,
   "id": "fc75c56b-1366-445f-87d9-292420db2d2e",
   "metadata": {},
   "outputs": [
    {
     "name": "stdout",
     "output_type": "stream",
     "text": [
      "scanpy==1.9.3 anndata==0.9.1 umap==0.5.3 numpy==1.24.3 scipy==1.10.1 pandas==2.0.2 scikit-learn==1.2.2 statsmodels==0.14.0 python-igraph==0.10.4 louvain==0.8.0 pynndescent==0.5.10\n"
     ]
    }
   ],
   "source": [
    "import numpy as np\n",
    "import pandas as pd\n",
    "import scanpy as sc\n",
    "import anndata as ad\n",
    "from anndata import AnnData\n",
    "import copy\n",
    "import matplotlib.pyplot as plt\n",
    "\n",
    "sc.settings.verbosity = 3             # verbosity: errors (0), warnings (1), info (2), hints (3)\n",
    "sc.logging.print_header()\n",
    "sc.settings.set_figure_params(dpi=80, facecolor='white')"
   ]
  },
  {
   "cell_type": "markdown",
   "id": "cd72eae0-43fd-4d6b-9562-f80d63399bca",
   "metadata": {},
   "source": [
    "# Read WT P7 Data"
   ]
  },
  {
   "cell_type": "code",
   "execution_count": 4,
   "id": "a9b90e4d-3b5f-49bc-a175-310a235675ce",
   "metadata": {},
   "outputs": [],
   "source": [
    "adata_p7_1 = sc.read_mtx('/path/to/P7/S1/matrix.mtx.gz')\n",
    "adata_p7_1 = adata_p7_1.transpose()"
   ]
  },
  {
   "cell_type": "code",
   "execution_count": 6,
   "id": "feb8b312-f08c-4b15-b9b5-5eb98c5703b1",
   "metadata": {},
   "outputs": [],
   "source": [
    "adata_p7_2 = sc.read_mtx('/path/to/P7/S2/matrix.mtx.gz')\n",
    "adata_p7_2 = adata_p7_2.transpose()"
   ]
  },
  {
   "cell_type": "code",
   "execution_count": 8,
   "id": "7d713be5-4c4d-4c84-80ab-1f3e7b3ff742",
   "metadata": {},
   "outputs": [],
   "source": [
    "adata_p7_3 = sc.read_mtx('/path/to/P7/S3/matrix.mtx.gz')\n",
    "adata_p7_3 = adata_p7_3.transpose()"
   ]
  },
  {
   "cell_type": "code",
   "execution_count": 10,
   "id": "f8eb2058-af5e-4dfe-b1a3-491b3ebd0115",
   "metadata": {},
   "outputs": [],
   "source": [
    "adata_p7_1.obs_names = pd.read_csv('/path/to/P7/S1/barcodes.tsv.gz', sep='\\t', names=['Barcode'])['Barcode'].values\n",
    "adata_p7_1.var_names = pd.read_csv('/path/to/P7/S1/features.tsv.gz', sep='\\t', names=['Ensembl','Name','Gene Expression'])['Name'].values"
   ]
  },
  {
   "cell_type": "code",
   "execution_count": 11,
   "id": "582e2749-d754-452c-909a-68f1c7413e4b",
   "metadata": {},
   "outputs": [],
   "source": [
    "adata_p7_2.obs_names = pd.read_csv('/path/to/P7/S2/barcodes.tsv.gz', sep='\\t', names=['Barcode'])['Barcode'].values\n",
    "adata_p7_2.var_names = pd.read_csv('/path/to/P7/S2/features.tsv.gz', sep='\\t', names=['Ensembl','Name','Gene Expression'])['Name'].values"
   ]
  },
  {
   "cell_type": "code",
   "execution_count": 12,
   "id": "49302973-f6a9-4fd8-abe8-78c57ed1d152",
   "metadata": {},
   "outputs": [],
   "source": [
    "adata_p7_3.obs_names = pd.read_csv('/path/to/P7/S3/barcodes.tsv.gz', sep='\\t', names=['Barcode'])['Barcode'].values\n",
    "adata_p7_3.var_names = pd.read_csv('/path/to/P7/S3/features.tsv.gz', sep='\\t', names=['Ensembl','Name','Gene Expression'])['Name'].values"
   ]
  },
  {
   "cell_type": "code",
   "execution_count": 14,
   "id": "f7c7ba3c-0abd-4823-91d2-d66876029a53",
   "metadata": {},
   "outputs": [],
   "source": [
    "adata_p7_1.var_names_make_unique()\n",
    "adata_p7_2.var_names_make_unique()\n",
    "adata_p7_3.var_names_make_unique()"
   ]
  },
  {
   "cell_type": "code",
   "execution_count": 45,
   "id": "2dd0f8e3-bfa6-4f44-a04f-5c9dd5f9ae4b",
   "metadata": {},
   "outputs": [],
   "source": [
    "new_cells_1 = []\n",
    "for i in adata_p7_1.obs.index:\n",
    "    new_cells_1.append(i + '_1')\n",
    "adata_p7_1.obs.index = new_cells_1\n",
    "\n",
    "new_cells_2 = []\n",
    "for i in adata_p7_2.obs.index:\n",
    "    new_cells_2.append(i + '_2')\n",
    "adata_p7_2.obs.index = new_cells_2\n",
    "\n",
    "new_cells_3 = []\n",
    "for i in adata_p7_3.obs.index:\n",
    "    new_cells_3.append(i + '_3')\n",
    "adata_p7_3.obs.index = new_cells_3"
   ]
  },
  {
   "cell_type": "code",
   "execution_count": 46,
   "id": "510de3f4-5847-475f-84c2-faf2c78f4b75",
   "metadata": {},
   "outputs": [],
   "source": [
    "adata_p7 = ad.concat([adata_p7_1, adata_p7_2, adata_p7_3], label='Batch', keys=['Batch1', 'Batch2', 'Batch3'])"
   ]
  },
  {
   "cell_type": "code",
   "execution_count": 47,
   "id": "d53a46ee-f288-41be-8de7-91eb5fda0f9d",
   "metadata": {},
   "outputs": [],
   "source": [
    "adata_p7.write('path/to/adatas/P7_adata_raw.h5ad')"
   ]
  },
  {
   "cell_type": "markdown",
   "id": "e91e6194-472a-47a5-8f98-1d088b950378",
   "metadata": {},
   "source": [
    "# Read β2KO P7 Data"
   ]
  },
  {
   "cell_type": "code",
   "execution_count": 48,
   "id": "759a474a-48b0-48c9-a13c-72236b2079ff",
   "metadata": {},
   "outputs": [],
   "source": [
    "adata_p7b2_1 = sc.read_mtx('/path/to/P7b2/S1/matrix.mtx.gz')\n",
    "adata_p7b2_1 = adata_p7b2_1.transpose()"
   ]
  },
  {
   "cell_type": "code",
   "execution_count": 52,
   "id": "dcda22b7-e823-4f83-81c0-17607092422e",
   "metadata": {},
   "outputs": [],
   "source": [
    "adata_p7b2_2 = sc.read_mtx('/path/to/P7b2/S2/matrix.mtx.gz')\n",
    "adata_p7b2_2 = adata_p7b2_2.transpose()"
   ]
  },
  {
   "cell_type": "code",
   "execution_count": 50,
   "id": "58756f1e-56b5-4a46-809f-a5188395eb88",
   "metadata": {},
   "outputs": [],
   "source": [
    "adata_p7b2_1_2 = sc.read_mtx('/path/to/P7b2/S1_2/matrix.mtx.gz')\n",
    "adata_p7b2_1_2 = adata_p7b2_1_2.transpose()"
   ]
  },
  {
   "cell_type": "code",
   "execution_count": 54,
   "id": "8a13272b-5f10-490e-b2b6-131e15fc45a4",
   "metadata": {},
   "outputs": [],
   "source": [
    "adata_p7b2_2_2 = sc.read_mtx('/path/to/P7b2/S2_2/matrix.mtx.gz')\n",
    "adata_p7b2_2_2 = adata_p7b2_2_2.transpose()"
   ]
  },
  {
   "cell_type": "code",
   "execution_count": 56,
   "id": "eca70fad-b515-4779-8d22-89b4024c49f6",
   "metadata": {},
   "outputs": [],
   "source": [
    "adata_p7b2_1.obs_names = pd.read_csv('/path/to/P7b2/S1/barcodes.tsv.gz', sep='\\t', names=['Barcode'])['Barcode'].values\n",
    "adata_p7b2_1.var_names = pd.read_csv('/path/to/P7b2/S1/features.tsv.gz', sep='\\t', names=['Ensembl','Name','Gene Expression'])['Name'].values"
   ]
  },
  {
   "cell_type": "code",
   "execution_count": 58,
   "id": "84f25879-8f0e-4c1d-8cdd-5c3c70e14f14",
   "metadata": {},
   "outputs": [],
   "source": [
    "adata_p7b2_2.obs_names = pd.read_csv('/path/to/P7b2/S2/barcodes.tsv.gz', sep='\\t', names=['Barcode'])['Barcode'].values\n",
    "adata_p7b2_2.var_names = pd.read_csv('/path/to/P7b2/S2/features.tsv.gz', sep='\\t', names=['Ensembl','Name','Gene Expression'])['Name'].values"
   ]
  },
  {
   "cell_type": "code",
   "execution_count": 57,
   "id": "2580d40f-04b5-404e-8122-92ca2334d4de",
   "metadata": {},
   "outputs": [],
   "source": [
    "adata_p7b2_1_2.obs_names = pd.read_csv('/path/to/P7b2/S1_2/barcodes.tsv.gz', sep='\\t', names=['Barcode'])['Barcode'].values\n",
    "adata_p7b2_1_2.var_names = pd.read_csv('/path/to/P7b2/S1_2/features.tsv.gz', sep='\\t', names=['Ensembl','Name','Gene Expression'])['Name'].values"
   ]
  },
  {
   "cell_type": "code",
   "execution_count": 59,
   "id": "79f62f7c-c05f-4f4a-90ae-9b8803c22737",
   "metadata": {},
   "outputs": [],
   "source": [
    "adata_p7b2_2_2.obs_names = pd.read_csv('/path/to/P7b2/S2_2/barcodes.tsv.gz', sep='\\t', names=['Barcode'])['Barcode'].values\n",
    "adata_p7b2_2_2.var_names = pd.read_csv('/path/to/P7b2/S2_2/features.tsv.gz', sep='\\t', names=['Ensembl','Name','Gene Expression'])['Name'].values"
   ]
  },
  {
   "cell_type": "code",
   "execution_count": 60,
   "id": "cfd532e4-6970-431a-8f43-4de3faad86ba",
   "metadata": {},
   "outputs": [],
   "source": [
    "adata_p7b2_1.var_names_make_unique()\n",
    "adata_p7b2_2.var_names_make_unique()\n",
    "adata_p7b2_1_2.var_names_make_unique()\n",
    "adata_p7b2_2_2.var_names_make_unique()"
   ]
  },
  {
   "cell_type": "code",
   "execution_count": 61,
   "id": "fef70fc6-b821-49df-b226-d7046acf0228",
   "metadata": {},
   "outputs": [],
   "source": [
    "new_cells_1 = []\n",
    "for i in adata_p7b2_1.obs.index:\n",
    "    new_cells_1.append(i + '_1')\n",
    "adata_p7b2_1.obs.index = new_cells_1\n",
    "\n",
    "new_cells_2 = []\n",
    "for i in adata_p7b2_2.obs.index:\n",
    "    new_cells_2.append(i + '_2')\n",
    "adata_p7b2_2.obs.index = new_cells_2\n",
    "\n",
    "new_cells_1_2 = []\n",
    "for i in adata_p7b2_1_2.obs.index:\n",
    "    new_cells_1_2.append(i + '_1_2')\n",
    "adata_p7b2_1_2.obs.index = new_cells_1_2\n",
    "\n",
    "new_cells_2_2 = []\n",
    "for i in adata_p7b2_2_2.obs.index:\n",
    "    new_cells_2_2.append(i + '_2_2')\n",
    "adata_p7b2_2_2.obs.index = new_cells_2_2"
   ]
  },
  {
   "cell_type": "code",
   "execution_count": 62,
   "id": "a182d250-9326-4cc4-ac2a-5634f524fca7",
   "metadata": {},
   "outputs": [],
   "source": [
    "adata_p7b2 = ad.concat([adata_p7b2_1, adata_p7b2_2, adata_p7b2_1_2, adata_p7b2_2_2], label='Batch', keys=['Batch1', 'Batch2', 'Batch1_2', 'Batch2_2'])"
   ]
  },
  {
   "cell_type": "code",
   "execution_count": 63,
   "id": "599740be-8e90-4d33-83cd-3f4f2b77dae6",
   "metadata": {},
   "outputs": [],
   "source": [
    "adata_p7b2.write('path/to/adatas/P7b2_adata_raw.h5ad')"
   ]
  },
  {
   "cell_type": "markdown",
   "id": "22d47353-c472-4892-94e2-c20af6df800c",
   "metadata": {},
   "source": [
    "# Read P5 Data"
   ]
  },
  {
   "cell_type": "code",
   "execution_count": 32,
   "id": "69e1caf0-8c49-49f7-88c6-68caa5d545dc",
   "metadata": {},
   "outputs": [],
   "source": [
    "adata_p5 = sc.read_mtx('path/to/P5/P5counts.mtx')"
   ]
  },
  {
   "cell_type": "code",
   "execution_count": 34,
   "id": "7d5ec345-7215-48ae-8792-4ce9837019f1",
   "metadata": {},
   "outputs": [],
   "source": [
    "adata_p5.var_names = pd.read_csv('path/to/P5/P5genes.csv')['x'].values\n",
    "adata_p5.obs_names = pd.read_csv('path/to/P5/P5cells.csv')['x'].values"
   ]
  },
  {
   "cell_type": "code",
   "execution_count": 35,
   "id": "cfe42338-9359-40a3-ae88-eab6d42380dc",
   "metadata": {},
   "outputs": [],
   "source": [
    "adata_p5.obs['Batch'] = pd.Series(pd.read_csv('path/to/P5/P5batch.csv')['x'].values, dtype='category').values"
   ]
  },
  {
   "cell_type": "code",
   "execution_count": 42,
   "id": "afd5b5fc-852e-455f-8b19-33f37d4c536c",
   "metadata": {},
   "outputs": [],
   "source": [
    "adata_p5.write('path/to/adatas/P5_adata_raw.h5ad')"
   ]
  },
  {
   "cell_type": "markdown",
   "id": "ed6754ce-30c2-4963-b236-8968bdd9bc4c",
   "metadata": {},
   "source": [
    "# Read P56 Data"
   ]
  },
  {
   "cell_type": "code",
   "execution_count": 37,
   "id": "201ba389-7910-4c2a-b25e-cc40ddabe89a",
   "metadata": {},
   "outputs": [],
   "source": [
    "adata_p56 = sc.read_mtx('path/to/P56/atlas.mtx')"
   ]
  },
  {
   "cell_type": "code",
   "execution_count": 38,
   "id": "7f290891-37a8-4be1-a347-7ed9ea45221d",
   "metadata": {},
   "outputs": [],
   "source": [
    "adata_p56 = adata_p56.transpose()"
   ]
  },
  {
   "cell_type": "code",
   "execution_count": 39,
   "id": "94042dfa-7e10-433a-b5e9-f632b8ea70fa",
   "metadata": {},
   "outputs": [],
   "source": [
    "adata_p56.var_names = pd.read_csv('path/to/P56/atlas_vars.csv')['x'].values\n",
    "adata_p56.obs_names = pd.read_csv('path/to/P56/atlas_obs.csv')['x'].values"
   ]
  },
  {
   "cell_type": "code",
   "execution_count": 40,
   "id": "889af78e-fb1a-46b3-b84c-aff513e3be0d",
   "metadata": {},
   "outputs": [],
   "source": [
    "adata_p56.obs['Batch'] = pd.Series(pd.read_csv('path/to/P56/atlas_batch.csv')['x'].values, dtype='category').values"
   ]
  },
  {
   "cell_type": "code",
   "execution_count": 43,
   "id": "4c5dbdfe-2e8c-4118-8024-8858953238e5",
   "metadata": {},
   "outputs": [],
   "source": [
    "adata_p56.write('path/to/adatas/P56_adata_raw.h5ad')"
   ]
  },
  {
   "cell_type": "code",
   "execution_count": null,
   "id": "e64fe176-59f0-4aec-9f17-0b783f8685bf",
   "metadata": {},
   "outputs": [],
   "source": []
  }
 ],
 "metadata": {
  "kernelspec": {
   "display_name": "Python 3",
   "language": "python",
   "name": "python3"
  },
  "language_info": {
   "codemirror_mode": {
    "name": "ipython",
    "version": 3
   },
   "file_extension": ".py",
   "mimetype": "text/x-python",
   "name": "python",
   "nbconvert_exporter": "python",
   "pygments_lexer": "ipython3",
   "version": "3.11.4"
  }
 },
 "nbformat": 4,
 "nbformat_minor": 5
}
